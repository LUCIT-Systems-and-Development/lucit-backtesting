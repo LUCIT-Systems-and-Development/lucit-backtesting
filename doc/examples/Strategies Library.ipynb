{
 "cells": [
  {
   "cell_type": "markdown",
   "metadata": {},
   "source": [
    "Library of Composable Base Strategies\n",
    "======================\n",
    "\n",
    "This tutorial will show how to reuse composable base trading strategies that are part of _backtesting.py_ software distribution.\n",
    "It is, henceforth, assumed you're already familiar with\n",
    "[basic package usage](https://kernc.github.io/backtesting.py/doc/examples/Quick%20Start%20User%20Guide.html).\n",
    "\n",
    "We'll extend the same moving average cross-over strategy as in\n",
    "[Quick Start User Guide](https://kernc.github.io/backtesting.py/doc/examples/Quick%20Start%20User%20Guide.html),\n",
    "but we'll rewrite it as a vectorized signal strategy and add trailing stop-loss.\n",
    "\n",
    "Again, we'll use our helper moving average function."
   ]
  },
  {
   "cell_type": "code",
   "execution_count": 1,
   "metadata": {},
   "source": [
    "from backtesting.test import SMA"
   ],
   "outputs": []
  },
  {
   "cell_type": "markdown",
   "metadata": {},
   "source": [
    "Part of this software distribution is\n",
    "[`backtesting.lib`](https://kernc.github.io/backtesting.py/doc/backtesting/lib.html)\n",
    "module that contains various reusable utilities for strategy development.\n",
    "Some of those utilities are composable base strategies we can extend and build upon.\n",
    "\n",
    "We import and extend two of those strategies here:\n",
    "* [`SignalStrategy`](https://kernc.github.io/backtesting.py/doc/backtesting/lib.html#backtesting.lib.SignalStrategy)\n",
    "  which decides upon a single signal vector whether to buy into a position, akin to\n",
    "  [vectorized backtesting](https://www.google.com/search?q=vectorized+backtesting)\n",
    "  engines, and\n",
    "* [`TrailingStrategy`](https://kernc.github.io/backtesting.py/doc/backtesting/lib.html#backtesting.lib.TrailingStrategy)\n",
    "  which automatically trails the current price with a stop-loss order some multiple of\n",
    "  [average true range](https://en.wikipedia.org/wiki/Average_true_range)\n",
    "  (ATR) away."
   ]
  },
  {
   "cell_type": "code",
   "execution_count": 2,
   "metadata": {},
   "source": [
    "import pandas as pd\n",
    "from backtesting.lib import SignalStrategy, TrailingStrategy\n",
    "\n",
    "\n",
    "class SmaCross(SignalStrategy,\n",
    "               TrailingStrategy):\n",
    "    n1 = 10\n",
    "    n2 = 25\n",
    "    \n",
    "    def init(self):\n",
    "        # In init() and in next() it is important to call the\n",
    "        # super method to properly initialize the parent classes\n",
    "        super().init()\n",
    "        \n",
    "        # Precompute the two moving averages\n",
    "        sma1 = self.I(SMA, self.data.Close, self.n1)\n",
    "        sma2 = self.I(SMA, self.data.Close, self.n2)\n",
    "        \n",
    "        # Where sma1 crosses sma2 upwards. Diff gives us [-1,0, *1*]\n",
    "        signal = (pd.Series(sma1) > sma2).astype(int).diff().fillna(0)\n",
    "        signal = signal.replace(-1, 0)  # Upwards/long only\n",
    "        \n",
    "        # Use 95% of available liquidity (at the time) on each order.\n",
    "        # (Leaving a value of 1. would instead buy a single share.)\n",
    "        entry_size = signal * .95\n",
    "                \n",
    "        # Set order entry sizes using the method provided by \n",
    "        # `SignalStrategy`. See the docs.\n",
    "        self.set_signal(entry_size=entry_size)\n",
    "        \n",
    "        # Set trailing stop-loss to 2x ATR using\n",
    "        # the method provided by `TrailingStrategy`\n",
    "        self.set_trailing_sl(2)"
   ],
   "outputs": []
  },
  {
   "cell_type": "markdown",
   "metadata": {},
   "source": [
    "Note, since the strategies in `lib` may require their own intialization and next-tick logic, be sure to **always call `super().init()` and `super().next()` in your overridden methods**.\n",
    "\n",
    "Let's see how the example strategy fares on historical Google data."
   ]
  },
  {
   "cell_type": "code",
   "execution_count": 3,
   "metadata": {
    "scrolled": false
   },
   "source": [
    "from backtesting import Backtest\n",
    "from backtesting.test import GOOG\n",
    "\n",
    "bt = Backtest(GOOG, SmaCross, commission=.002)\n",
    "\n",
    "bt.run()\n",
    "bt.plot()"
   ],
   "outputs": []
  },
  {
   "cell_type": "markdown",
   "metadata": {},
   "source": [
    "Notice how managing risk with a trailing stop-loss secures our gains and limits our losses.\n",
    "\n",
    "For other strategies of the sort, and other reusable utilities in general, see\n",
    "[**_backtesting.lib_ module reference**](https://kernc.github.io/backtesting.py/doc/backtesting/lib.html)."
   ]
  },
  {
   "cell_type": "markdown",
   "metadata": {},
   "source": [
    "Learn more by exploring further\n",
    "[examples](https://kernc.github.io/backtesting.py/doc/backtesting/index.html#tutorials)\n",
    "or find more framework options in the\n",
    "[full API reference](https://kernc.github.io/backtesting.py/doc/backtesting/index.html#header-submodules)."
   ]
  }
 ],
 "metadata": {
  "kernelspec": {
   "display_name": "Python 3",
   "language": "python",
   "name": "python3"
  },
  "language_info": {
   "codemirror_mode": {
    "name": "ipython",
    "version": 3
   },
   "file_extension": ".py",
   "mimetype": "text/x-python",
   "name": "python",
   "nbconvert_exporter": "python",
   "pygments_lexer": "ipython3",
   "version": "3.7.3"
  }
 },
 "nbformat": 4,
 "nbformat_minor": 2
}
